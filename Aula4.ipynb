{
 "cells": [
  {
   "cell_type": "markdown",
   "metadata": {},
   "source": [
    "# <font color='blue'> UNISINOS - ESPECIALIZAÇÃO EM BIGA DATA, DATA SCIENCE E DATA ANALYTICS\n",
    "\n",
    "##### <font color='blue'> PROFa. PATRICIA KUYVEN\n",
    "    \n",
    "## <font color='blue'> Aula 4\n",
    "    \n",
    "## Trabalhando com Python no Jupyter Notebook\n",
    "    \n"
   ]
  },
  {
   "cell_type": "markdown",
   "metadata": {},
   "source": [
    "## 1.1 Operações matemáticas"
   ]
  },
  {
   "cell_type": "code",
   "execution_count": null,
   "metadata": {},
   "outputs": [],
   "source": [
    "# soma\n",
    "2+3+7"
   ]
  },
  {
   "cell_type": "code",
   "execution_count": null,
   "metadata": {},
   "outputs": [],
   "source": [
    "# divisão\n",
    "3/5"
   ]
  },
  {
   "cell_type": "code",
   "execution_count": null,
   "metadata": {},
   "outputs": [],
   "source": [
    "# operação com arrays\n",
    "import numpy\n",
    "x = numpy.array([1, 2, 3, 4, 5])\n",
    "y = 2\n",
    "print(x + y)\n",
    "print(x - y)\n",
    "print(y - x)\n",
    "print(x * y)\n",
    "print(x / y)\n",
    "print(y / x)"
   ]
  },
  {
   "cell_type": "markdown",
   "metadata": {},
   "source": [
    "## 1.2 Trabalhando com strings"
   ]
  },
  {
   "cell_type": "code",
   "execution_count": 1,
   "metadata": {},
   "outputs": [
    {
     "name": "stdout",
     "output_type": "stream",
     "text": [
      "ontemhoje\n"
     ]
    }
   ],
   "source": [
    "# sinal \" + \" também serve para concatenar textos\n",
    "a=\"ontem\"\n",
    "b=\"hoje\"\n",
    "print(a+b)"
   ]
  },
  {
   "cell_type": "markdown",
   "metadata": {},
   "source": [
    "## 1.3 Abrindo/lendo csv com \"import csv\""
   ]
  },
  {
   "cell_type": "code",
   "execution_count": 2,
   "metadata": {},
   "outputs": [
    {
     "name": "stdout",
     "output_type": "stream",
     "text": [
      "['ï»¿curso;disciplina;grau_exig;modalidade;media_notas_ant;num_disc_evadidas;mensal_atraso;sexo;idade;dist;sem;tamanho_turma;sit']\n",
      "['AdministraÃ§Ã£o;EstratÃ©gias de marketing;1;2;4.5;6;1;F;24;1;6;50;1']\n",
      "['GestÃ£o da ProduÃ§Ã£o;MatemÃ¡tica financeira;2;1;4.6;7;2;F;25;1;3;35;1']\n",
      "['GestÃ£o da ProduÃ§Ã£o;MÃ©todos EstatÃ\\xadsticos;3;2;4.8;5;4;M;22;3;4;33;1']\n",
      "['GestÃ£o da ProduÃ§Ã£o;MatemÃ¡tica financeira;2;2;4.9;4;7;M;26;2;1;25;1']\n",
      "['GestÃ£o da ProduÃ§Ã£o;MÃ©todos EstatÃ\\xadsticos;3;1;5.3;5;0;F;18;3;7;30;']\n",
      "['GestÃ£o da ProduÃ§Ã£o;MatemÃ¡tica financeira;2;2;5.4;3;0;M;20;1;1;25;1']\n",
      "['GestÃ£o da ProduÃ§Ã£o;MÃ©todos EstatÃ\\xadsticos;3;1;5.4;4;0;F;32;3;3;42;1']\n",
      "['Engenharia de ProduÃ§Ã£o;MÃ©todos EstatÃ\\xadsticos;3;1;5.5;0;1;F;21;2;3;20;1']\n",
      "['AdministraÃ§Ã£o;CÃ¡lculo A;3;1;5.5;2;2;F;28;1;6;25;0']\n",
      "['AdministraÃ§Ã£o;MatemÃ¡tica financeira;2;1;5.6;2;0;M;25;1;1;43;1']\n",
      "['GestÃ£o da ProduÃ§Ã£o;MÃ©todos EstatÃ\\xadsticos;3;1;5.6;4;2;M;18;3;4;35;1']\n",
      "['GestÃ£o da ProduÃ§Ã£o;GestÃ£o de Projetos;1;1;5.7;0;0;F;20;2;2;35;0']\n",
      "['Engenharia de ProduÃ§Ã£o;CÃ¡lculo B;3;1;5.7;0;0;M;24;1;3;25;0']\n",
      "['GestÃ£o da ProduÃ§Ã£o;MÃ©todos EstatÃ\\xadsticos;3;2;5.7;1;0;F;22;1;4;50;0']\n",
      "['Engenharia de ProduÃ§Ã£o;MÃ©todos EstatÃ\\xadsticos;3;1;5.7;1;0;M;19;2;6;35;1']\n",
      "['AdministraÃ§Ã£o;Planejamento contÃ¡bil;2;1;5.8;3;0;F;30;1;1;25;0']\n",
      "['AdministraÃ§Ã£o;GestÃ£o de Projetos;1;2;5.8;3;0;M;25;1;2;41;0']\n",
      "['AdministraÃ§Ã£o;Comportamento do consumidor;1;2;5.8;3;0;F;21;1;3;40;0']\n",
      "['AdministraÃ§Ã£o;EstratÃ©gias de marketing;1;1;5.8;4;2;F;20;1;3;41;0']\n",
      "['AdministraÃ§Ã£o;MatemÃ¡tica financeira;2;1;5.8;0;0;F;27;1;3;41;0']\n",
      "['AdministraÃ§Ã£o;MÃ©todos EstatÃ\\xadsticos;3;2;5.8;0;1;M;22;2;3;42;0']\n",
      "['GestÃ£o da ProduÃ§Ã£o;MatemÃ¡tica financeira;2;2;5.8;5;3;F;24;1;5;41;1']\n",
      "['AdministraÃ§Ã£o;GestÃ£o de Projetos;1;1;5.8;4;0;F;32;1;6;35;0']\n",
      "['Engenharia de ProduÃ§Ã£o;GestÃ£o de Projetos;1;1;5.8;1;0;M;21;1;7;24;']\n",
      "['GestÃ£o da ProduÃ§Ã£o;MatemÃ¡tica financeira;2;1;5.9;3;5;M;18;1;3;43;1']\n",
      "['GestÃ£o da ProduÃ§Ã£o;MÃ©todos EstatÃ\\xadsticos;3;1;6.1;2;2;M;21;2;5;36;1']\n",
      "['GestÃ£o da ProduÃ§Ã£o;MÃ©todos EstatÃ\\xadsticos;3;1;6.2;5;0;M;19;1;3;42;1']\n",
      "['GestÃ£o da ProduÃ§Ã£o;MÃ©todos EstatÃ\\xadsticos;3;1;6.3;1;3;M;30;3;1;41;1']\n",
      "['GestÃ£o da ProduÃ§Ã£o;MÃ©todos EstatÃ\\xadsticos;3;2;6.3;2;0;F;18;2;3;50;1']\n",
      "['AdministraÃ§Ã£o;MatemÃ¡tica financeira;2;1;6.3;2;0;M;19;2;5;35;1']\n",
      "['AdministraÃ§Ã£o;CÃ¡lculo A;3;1;6.3;1;1;M;22;3;6;40;1']\n",
      "['Engenharia de ProduÃ§Ã£o;CÃ¡lculo A;3;1;6.4;0;1;M;26;1;1;41;0']\n",
      "['Engenharia de ProduÃ§Ã£o;CÃ¡lculo B;3;1;6.4;3;0;M;19;1;1;28;1']\n",
      "['AdministraÃ§Ã£o;EstratÃ©gias de marketing;1;2;6.4;3;0;F;27;3;1;35;0']\n",
      "['Engenharia de ProduÃ§Ã£o;GestÃ£o de Projetos;1;1;6.4;0;0;F;22;1;1;35;0']\n",
      "['GestÃ£o da ProduÃ§Ã£o;GestÃ£o de Projetos;1;2;6.4;0;3;M;23;2;1;35;0']\n",
      "['AdministraÃ§Ã£o;MÃ©todos EstatÃ\\xadsticos;3;1;6.4;0;0;F;23;2;1;30;0']\n",
      "['AdministraÃ§Ã£o;Planejamento contÃ¡bil;2;1;6.4;2;0;F;27;3;1;30;0']\n",
      "['AdministraÃ§Ã£o;Comportamento do consumidor;1;2;6.4;0;0;F;25;1;2;40;0']\n",
      "['GestÃ£o da ProduÃ§Ã£o;GestÃ£o de Projetos;1;1;6.4;0;1;M;24;2;2;40;0']\n",
      "['GestÃ£o da ProduÃ§Ã£o;MÃ©todos EstatÃ\\xadsticos;3;1;6.4;1;8;M;23;3;2;33;1']\n",
      "['GestÃ£o da ProduÃ§Ã£o;MÃ©todos EstatÃ\\xadsticos;3;2;6.4;0;4;M;25;2;2;25;0']\n",
      "['AdministraÃ§Ã£o;CÃ¡lculo A;3;1;6.4;0;0;F;24;2;3;33;0']\n",
      "['AdministraÃ§Ã£o;EstratÃ©gias de marketing;1;1;6.4;1;0;F;30;1;3;43;0']\n",
      "['AdministraÃ§Ã£o;GestÃ£o de Projetos;1;1;6.4;0;0;M;22;3;3;42;0']\n",
      "['AdministraÃ§Ã£o;MatemÃ¡tica financeira;2;1;6.4;3;0;M;25;1;3;43;0']\n",
      "['GestÃ£o da ProduÃ§Ã£o;MÃ©todos EstatÃ\\xadsticos;3;1;6.4;2;4;M;21;3;3;42;1']\n",
      "['AdministraÃ§Ã£o;Planejamento contÃ¡bil;2;1;6.4;2;0;F;25;1;3;20;0']\n",
      "['AdministraÃ§Ã£o;MÃ©todos EstatÃ\\xadsticos;3;1;6.4;0;0;F;22;2;4;33;0']\n",
      "['GestÃ£o da ProduÃ§Ã£o;MÃ©todos EstatÃ\\xadsticos;3;1;6.4;0;0;F;27;1;4;20;0']\n",
      "['GestÃ£o da ProduÃ§Ã£o;MÃ©todos EstatÃ\\xadsticos;3;1;6.4;0;5;M;23;2;4;24;0']\n",
      "['AdministraÃ§Ã£o;MÃ©todos EstatÃ\\xadsticos;3;2;6.4;1;10;M;18;2;4;50;1']\n",
      "['AdministraÃ§Ã£o;CÃ¡lculo A;3;1;6.4;3;0;F;28;2;5;32;0']\n",
      "['AdministraÃ§Ã£o;EstratÃ©gias de marketing;1;1;6.4;0;0;M;23;1;5;43;0']\n",
      "['GestÃ£o da ProduÃ§Ã£o;MatemÃ¡tica financeira;2;2;6.4;0;1;M;23;1;5;30;0']\n",
      "['Engenharia de ProduÃ§Ã£o;MÃ©todos EstatÃ\\xadsticos;3;1;6.4;0;0;M;24;2;5;24;0']\n",
      "['GestÃ£o da ProduÃ§Ã£o;MÃ©todos EstatÃ\\xadsticos;3;2;6.4;0;2;M;28;1;5;42;1']\n",
      "['AdministraÃ§Ã£o;GestÃ£o de Projetos;1;1;6.4;5;0;M;26;1;6;24;0']\n",
      "['AdministraÃ§Ã£o;MatemÃ¡tica financeira;2;1;6.4;0;0;F;30;1;6;33;0']\n",
      "['Engenharia de ProduÃ§Ã£o;CÃ¡lculo B;3;1;6.4;0;2;M;24;1;7;35;']\n",
      "['AdministraÃ§Ã£o;GestÃ£o de Projetos;1;2;6.4;0;0;M;21;3;7;46;']\n",
      "['AdministraÃ§Ã£o;CÃ¡lculo A;3;1;6.5;0;4;F;19;2;1;43;1']\n",
      "['AdministraÃ§Ã£o;CÃ¡lculo A;3;1;6.5;0;0;F;27;2;1;25;0']\n",
      "['AdministraÃ§Ã£o;MÃ©todos EstatÃ\\xadsticos;3;2;6.5;0;2;F;18;3;2;33;1']\n",
      "['AdministraÃ§Ã£o;Comportamento do consumidor;1;1;6.5;0;0;M;19;2;3;41;0']\n",
      "['GestÃ£o da ProduÃ§Ã£o;MÃ©todos EstatÃ\\xadsticos;3;1;6.5;0;0;M;29;1;3;41;0']\n",
      "['GestÃ£o da ProduÃ§Ã£o;MÃ©todos EstatÃ\\xadsticos;3;2;6.5;0;0;M;21;1;3;43;0']\n",
      "['AdministraÃ§Ã£o;GestÃ£o de Projetos;1;1;6.5;2;0;F;26;1;4;43;0']\n",
      "['Engenharia de ProduÃ§Ã£o;CÃ¡lculo A;3;1;6.5;0;0;M;21;2;5;39;0']\n",
      "['Engenharia de ProduÃ§Ã£o;CÃ¡lculo B;3;1;6.5;0;5;F;18;1;5;29;1']\n",
      "['AdministraÃ§Ã£o;Comportamento do consumidor;1;1;6.5;1;5;F;21;2;5;42;0']\n",
      "['AdministraÃ§Ã£o;EstratÃ©gias de marketing;1;1;6.5;0;0;M;23;1;5;23;0']\n",
      "['GestÃ£o da ProduÃ§Ã£o;GestÃ£o de Projetos;1;2;6.5;0;7;M;22;1;6;50;1']\n",
      "['AdministraÃ§Ã£o;MatemÃ¡tica financeira;2;1;6.5;4;1;F;19;1;6;20;0']\n",
      "['GestÃ£o da ProduÃ§Ã£o;MÃ©todos EstatÃ\\xadsticos;3;1;6.5;0;0;M;25;1;6;24;0']\n",
      "['AdministraÃ§Ã£o;Planejamento contÃ¡bil;2;1;6.5;1;0;F;29;2;6;30;0']\n",
      "['AdministraÃ§Ã£o;MÃ©todos EstatÃ\\xadsticos;3;2;6.5;0;0;M;21;2;7;40;']\n",
      "['AdministraÃ§Ã£o;Comportamento do consumidor;1;2;6.6;1;0;F;21;1;1;43;0']\n",
      "['GestÃ£o da ProduÃ§Ã£o;GestÃ£o de Projetos;1;1;6.6;0;1;M;21;1;1;25;1']\n",
      "['GestÃ£o da ProduÃ§Ã£o;MatemÃ¡tica financeira;2;2;6.6;0;0;F;25;1;1;36;1']\n",
      "['AdministraÃ§Ã£o;CÃ¡lculo A;3;1;6.6;0;0;F;20;2;2;40;0']\n",
      "['GestÃ£o da ProduÃ§Ã£o;GestÃ£o de Projetos;1;1;6.6;2;0;M;25;1;3;25;0']\n",
      "['AdministraÃ§Ã£o;GestÃ£o de Projetos;1;2;6.6;1;0;F;20;2;3;41;1']\n",
      "['AdministraÃ§Ã£o;Planejamento contÃ¡bil;2;1;6.6;0;0;F;26;1;3;30;0']\n",
      "['Engenharia de ProduÃ§Ã£o;GestÃ£o de Projetos;1;1;6.6;1;0;M;26;1;4;20;0']\n",
      "['GestÃ£o da ProduÃ§Ã£o;MÃ©todos EstatÃ\\xadsticos;3;1;6.6;0;0;M;24;2;4;35;0']\n",
      "['AdministraÃ§Ã£o;MÃ©todos EstatÃ\\xadsticos;3;2;6.6;0;0;F;20;3;4;50;0']\n",
      "['AdministraÃ§Ã£o;GestÃ£o de Projetos;1;1;6.6;0;0;F;19;3;5;35;0']\n",
      "['AdministraÃ§Ã£o;MatemÃ¡tica financeira;2;1;6.6;0;0;M;21;2;5;30;0']\n",
      "['AdministraÃ§Ã£o;MatemÃ¡tica financeira;2;1;6.6;0;0;F;22;2;5;41;1']\n",
      "['Engenharia de ProduÃ§Ã£o;CÃ¡lculo B;3;1;6.6;0;0;M;25;1;6;25;0']\n",
      "['GestÃ£o da ProduÃ§Ã£o;MatemÃ¡tica financeira;2;1;6.7;0;0;F;24;3;5;41;0']\n",
      "['GestÃ£o da ProduÃ§Ã£o;MatemÃ¡tica financeira;2;1;6.8;1;0;M;18;3;5;24;1']\n",
      "['AdministraÃ§Ã£o;Comportamento do consumidor;1;1;7', '0;1;3;F;21;1;1;42;0']\n",
      "['AdministraÃ§Ã£o;GestÃ£o de Projetos;1;1;7', '0;0;0;F;23;2;1;20;0']\n",
      "['GestÃ£o da ProduÃ§Ã£o;MÃ©todos EstatÃ\\xadsticos;3;1;7', '0;0;0;F;21;1;1;42;0']\n",
      "['GestÃ£o da ProduÃ§Ã£o;MÃ©todos EstatÃ\\xadsticos;3;1;7', '0;0;0;F;24;1;1;25;0']\n",
      "['AdministraÃ§Ã£o;CÃ¡lculo A;3;1;7', '0;2;0;M;24;1;2;33;1']\n",
      "['AdministraÃ§Ã£o;CÃ¡lculo A;3;1;7', '0;0;0;M;26;1;2;41;0']\n",
      "['Engenharia de ProduÃ§Ã£o;CÃ¡lculo A;3;1;7', '0;0;1;M;35;1;2;30;0']\n",
      "['GestÃ£o da ProduÃ§Ã£o;GestÃ£o de Projetos;1;2;7', '0;0;3;F;24;2;2;35;0']\n",
      "['AdministraÃ§Ã£o;MatemÃ¡tica financeira;2;1;7', '0;0;2;M;32;3;2;42;0']\n",
      "['AdministraÃ§Ã£o;Planejamento contÃ¡bil;2;1;7', '0;2;0;F;25;1;2;35;0']\n",
      "['AdministraÃ§Ã£o;MÃ©todos EstatÃ\\xadsticos;3;1;7', '0;0;0;F;23;1;3;35;0']\n",
      "['AdministraÃ§Ã£o;Comportamento do consumidor;1;1;7', '0;0;0;F;18;1;4;35;1']\n",
      "['AdministraÃ§Ã£o;EstratÃ©gias de marketing;1;1;7', '0;0;2;F;18;1;4;42;0']\n",
      "['AdministraÃ§Ã£o;GestÃ£o de Projetos;1;1;7', '0;0;1;M;19;2;4;35;0']\n",
      "['AdministraÃ§Ã£o;CÃ¡lculo A;3;1;7', '0;0;0;F;21;2;5;39;1']\n",
      "['Engenharia de ProduÃ§Ã£o;MÃ©todos EstatÃ\\xadsticos;3;1;7', '0;0;0;M;28;2;5;30;0']\n",
      "['AdministraÃ§Ã£o;Planejamento contÃ¡bil;2;1;7', '0;0;0;F;25;1;5;24;0']\n",
      "['Engenharia de ProduÃ§Ã£o;CÃ¡lculo A;3;1;7', '0;0;0;F;19;2;6;30;0']\n",
      "['Engenharia de ProduÃ§Ã£o;CÃ¡lculo B;3;1;7', '0;0;0;M;27;1;6;32;0']\n",
      "['AdministraÃ§Ã£o;EstratÃ©gias de marketing;1;1;7', '0;1;0;F;18;1;6;42;0']\n",
      "['AdministraÃ§Ã£o;EstratÃ©gias de marketing;1;2;7', '0;3;0;M;20;1;6;24;1']\n",
      "['GestÃ£o da ProduÃ§Ã£o;GestÃ£o de Projetos;1;2;7', '0;1;3;M;25;1;6;50;1']\n",
      "['AdministraÃ§Ã£o;MÃ©todos EstatÃ\\xadsticos;3;1;7', '0;2;1;M;28;3;6;39;1']\n",
      "['GestÃ£o da ProduÃ§Ã£o;MÃ©todos EstatÃ\\xadsticos;3;2;7', '0;1;7;M;24;1;6;50;1']\n",
      "['AdministraÃ§Ã£o;MatemÃ¡tica financeira;2;1;7', '0;4;0;F;22;1;7;33;']\n",
      "['GestÃ£o da ProduÃ§Ã£o;MÃ©todos EstatÃ\\xadsticos;3;2;7', '0;2;0;M;19;3;7;25;']\n",
      "['AdministraÃ§Ã£o;CÃ¡lculo A;3;1;7.1;0;4;M;21;2;2;25;1']\n",
      "['GestÃ£o da ProduÃ§Ã£o;MÃ©todos EstatÃ\\xadsticos;3;1;7.1;0;0;F;20;3;3;24;0']\n",
      "['GestÃ£o da ProduÃ§Ã£o;MÃ©todos EstatÃ\\xadsticos;3;2;7.1;0;0;F;29;1;3;35;0']\n",
      "['GestÃ£o da ProduÃ§Ã£o;MatemÃ¡tica financeira;2;1;7.1;0;0;F;29;1;5;23;0']\n",
      "['AdministraÃ§Ã£o;Comportamento do consumidor;1;2;7.1;2;0;F;23;1;7;50;']\n",
      "['GestÃ£o da ProduÃ§Ã£o;MÃ©todos EstatÃ\\xadsticos;3;1;7.2;0;0;F;30;3;1;35;0']\n",
      "['AdministraÃ§Ã£o;MÃ©todos EstatÃ\\xadsticos;3;2;7.2;0;0;M;32;1;1;35;0']\n",
      "['AdministraÃ§Ã£o;GestÃ£o de Projetos;1;1;7.2;3;2;F;19;1;2;24;1']\n",
      "['Engenharia de ProduÃ§Ã£o;GestÃ£o de Projetos;1;1;7.2;4;0;F;21;1;2;41;1']\n",
      "['GestÃ£o da ProduÃ§Ã£o;MÃ©todos EstatÃ\\xadsticos;3;2;7.2;0;1;F;25;1;2;35;0']\n",
      "['GestÃ£o da ProduÃ§Ã£o;MatemÃ¡tica financeira;2;1;7.2;0;0;F;30;1;3;42;0']\n",
      "['AdministraÃ§Ã£o;GestÃ£o de Projetos;1;1;7.2;1;3;F;29;1;4;35;0']\n",
      "['Engenharia de ProduÃ§Ã£o;CÃ¡lculo B;3;1;7.2;0;0;F;23;3;5;25;0']\n",
      "['GestÃ£o da ProduÃ§Ã£o;MÃ©todos EstatÃ\\xadsticos;3;1;7.2;0;0;M;26;1;5;24;0']\n",
      "['AdministraÃ§Ã£o;Planejamento contÃ¡bil;2;1;7.2;0;0;M;20;3;5;33;0']\n",
      "['GestÃ£o da ProduÃ§Ã£o;GestÃ£o de Projetos;1;2;7.2;2;0;M;22;1;6;39;1']\n",
      "['AdministraÃ§Ã£o;MatemÃ¡tica financeira;2;1;7.2;1;0;F;22;3;6;20;0']\n",
      "['Engenharia de ProduÃ§Ã£o;CÃ¡lculo B;3;1;7.3;0;0;F;28;1;1;25;0']\n",
      "['AdministraÃ§Ã£o;Comportamento do consumidor;1;2;7.3;1;3;F;19;2;1;33;1']\n",
      "['Engenharia de ProduÃ§Ã£o;GestÃ£o de Projetos;1;1;7.3;0;0;M;18;1;1;24;0']\n",
      "['AdministraÃ§Ã£o;GestÃ£o de Projetos;1;1;7.3;0;0;F;20;1;1;20;0']\n",
      "['GestÃ£o da ProduÃ§Ã£o;MÃ©todos EstatÃ\\xadsticos;3;1;7.3;0;0;M;18;1;1;33;0']\n",
      "['AdministraÃ§Ã£o;MÃ©todos EstatÃ\\xadsticos;3;2;7.3;0;0;F;25;2;1;43;1']\n",
      "['AdministraÃ§Ã£o;MÃ©todos EstatÃ\\xadsticos;3;2;7.3;2;0;F;20;2;1;35;0']\n",
      "['Engenharia de ProduÃ§Ã£o;CÃ¡lculo B;3;1;7.3;0;0;M;25;2;2;30;0']\n",
      "['AdministraÃ§Ã£o;MÃ©todos EstatÃ\\xadsticos;3;2;7.3;1;4;M;19;1;2;20;1']\n",
      "['AdministraÃ§Ã£o;Planejamento contÃ¡bil;2;1;7.3;1;0;M;26;3;2;40;0']\n",
      "['AdministraÃ§Ã£o;CÃ¡lculo A;3;1;7.3;0;0;M;20;2;3;30;0']\n",
      "['AdministraÃ§Ã£o;Comportamento do consumidor;1;1;7.3;0;0;F;22;1;3;43;0']\n",
      "['GestÃ£o da ProduÃ§Ã£o;GestÃ£o de Projetos;1;1;7.3;0;0;F;20;1;3;40;0']\n",
      "['AdministraÃ§Ã£o;MatemÃ¡tica financeira;2;1;7.3;1;0;M;20;2;3;25;0']\n",
      "['GestÃ£o da ProduÃ§Ã£o;MatemÃ¡tica financeira;2;1;7.3;2;0;M;21;2;3;30;0']\n",
      "['Engenharia de ProduÃ§Ã£o;MÃ©todos EstatÃ\\xadsticos;3;1;7.3;2;0;M;25;3;3;40;0']\n",
      "['GestÃ£o da ProduÃ§Ã£o;MÃ©todos EstatÃ\\xadsticos;3;1;7.3;1;0;M;22;1;3;24;0']\n",
      "['GestÃ£o da ProduÃ§Ã£o;MÃ©todos EstatÃ\\xadsticos;3;2;7.3;0;0;M;25;1;3;42;0']\n",
      "['GestÃ£o da ProduÃ§Ã£o;MÃ©todos EstatÃ\\xadsticos;3;2;7.3;0;0;M;28;2;3;33;0']\n",
      "['AdministraÃ§Ã£o;Comportamento do consumidor;1;2;7.3;1;4;M;27;3;4;24;0']\n",
      "['AdministraÃ§Ã£o;GestÃ£o de Projetos;1;1;7.3;1;1;M;19;1;4;35;0']\n",
      "['Engenharia de ProduÃ§Ã£o;GestÃ£o de Projetos;1;1;7.3;0;4;M;20;1;4;25;0']\n",
      "['AdministraÃ§Ã£o;GestÃ£o de Projetos;1;1;7.3;0;0;F;19;1;4;41;0']\n",
      "['AdministraÃ§Ã£o;MatemÃ¡tica financeira;2;1;7.3;0;3;M;21;2;4;30;0']\n",
      "['AdministraÃ§Ã£o;Planejamento contÃ¡bil;2;1;7.3;0;2;M;30;3;4;30;0']\n",
      "['Engenharia de ProduÃ§Ã£o;CÃ¡lculo B;3;1;7.3;1;0;M;20;1;5;24;0']\n",
      "['AdministraÃ§Ã£o;GestÃ£o de Projetos;1;1;7.3;1;0;F;19;2;5;30;1']\n",
      "['GestÃ£o da ProduÃ§Ã£o;GestÃ£o de Projetos;1;1;7.3;0;0;F;27;2;5;25;0']\n",
      "['AdministraÃ§Ã£o;GestÃ£o de Projetos;1;2;7.3;0;0;F;22;1;5;50;1']\n",
      "['AdministraÃ§Ã£o;MatemÃ¡tica financeira;2;1;7.3;0;0;M;26;1;5;30;0']\n",
      "['GestÃ£o da ProduÃ§Ã£o;MatemÃ¡tica financeira;2;2;7.3;0;0;M;28;1;5;40;0']\n",
      "['GestÃ£o da ProduÃ§Ã£o;MÃ©todos EstatÃ\\xadsticos;3;1;7.3;0;0;M;29;1;5;40;0']\n",
      "['GestÃ£o da ProduÃ§Ã£o;MÃ©todos EstatÃ\\xadsticos;3;1;7.3;0;0;F;19;1;5;25;0']\n",
      "['Engenharia de ProduÃ§Ã£o;CÃ¡lculo A;3;1;7.3;0;0;M;23;2;6;35;0']\n",
      "['AdministraÃ§Ã£o;CÃ¡lculo A;3;1;7.3;0;0;F;21;1;6;24;0']\n",
      "['AdministraÃ§Ã£o;EstratÃ©gias de marketing;1;1;7.3;1;1;M;19;1;6;30;0']\n",
      "['AdministraÃ§Ã£o;EstratÃ©gias de marketing;1;2;7.3;0;0;M;20;1;6;35;0']\n",
      "['AdministraÃ§Ã£o;EstratÃ©gias de marketing;1;2;7.3;0;2;F;20;1;6;41;0']\n",
      "['GestÃ£o da ProduÃ§Ã£o;GestÃ£o de Projetos;1;2;7.3;0;0;M;18;1;6;42;0']\n",
      "['AdministraÃ§Ã£o;GestÃ£o de Projetos;1;2;7.3;2;0;F;24;1;6;33;0']\n",
      "['AdministraÃ§Ã£o;MatemÃ¡tica financeira;2;1;7.3;2;3;F;18;1;6;35;1']\n",
      "['AdministraÃ§Ã£o;CÃ¡lculo A;3;1;7.3;1;0;F;20;2;7;24;']\n",
      "['AdministraÃ§Ã£o;MatemÃ¡tica financeira;2;1;7.3;0;1;F;24;2;7;42;']\n",
      "['AdministraÃ§Ã£o;Planejamento contÃ¡bil;2;1;7.3;0;0;F;20;3;7;25;']\n",
      "['Engenharia de ProduÃ§Ã£o;GestÃ£o de Projetos;1;1;7.4;0;0;M;19;3;1;43;0']\n",
      "['AdministraÃ§Ã£o;MÃ©todos EstatÃ\\xadsticos;3;2;7.4;1;2;F;21;1;1;36;1']\n",
      "['AdministraÃ§Ã£o;CÃ¡lculo A;3;1;7.4;1;0;F;33;3;2;40;0']\n",
      "['GestÃ£o da ProduÃ§Ã£o;MatemÃ¡tica financeira;2;1;7.4;0;2;M;25;1;2;35;0']\n",
      "['AdministraÃ§Ã£o;MatemÃ¡tica financeira;2;1;7.4;0;0;F;29;1;2;41;0']\n",
      "['GestÃ£o da ProduÃ§Ã£o;MÃ©todos EstatÃ\\xadsticos;3;2;7.4;0;1;F;19;1;2;35;0']\n",
      "['AdministraÃ§Ã£o;MatemÃ¡tica financeira;2;1;7.4;2;0;M;23;1;4;36;1']\n",
      "['GestÃ£o da ProduÃ§Ã£o;MÃ©todos EstatÃ\\xadsticos;3;1;7.4;0;0;F;20;1;5;41;0']\n",
      "['AdministraÃ§Ã£o;GestÃ£o de Projetos;1;2;7.4;1;0;F;23;1;6;24;1']\n",
      "['GestÃ£o da ProduÃ§Ã£o;MÃ©todos EstatÃ\\xadsticos;3;1;7.4;0;3;F;32;1;6;33;0']\n",
      "['Engenharia de ProduÃ§Ã£o;CÃ¡lculo B;3;1;7.4;0;0;F;21;1;7;42;']\n",
      "['AdministraÃ§Ã£o;Comportamento do consumidor;1;2;7.4;0;0;F;23;1;7;25;']\n",
      "['AdministraÃ§Ã£o;GestÃ£o de Projetos;1;1;7.4;0;5;F;37;1;7;33;']\n",
      "['GestÃ£o da ProduÃ§Ã£o;MÃ©todos EstatÃ\\xadsticos;3;1;7.4;3;2;M;25;2;7;35;']\n",
      "['Engenharia de ProduÃ§Ã£o;CÃ¡lculo A;3;1;7.5;0;3;F;21;2;1;41;1']\n",
      "['AdministraÃ§Ã£o;CÃ¡lculo A;3;1;7.5;0;0;F;29;2;1;40;0']\n",
      "['AdministraÃ§Ã£o;Comportamento do consumidor;1;1;7.5;0;1;M;20;2;1;25;0']\n",
      "['AdministraÃ§Ã£o;GestÃ£o de Projetos;1;2;7.5;2;0;M;24;1;1;33;1']\n",
      "['AdministraÃ§Ã£o;MatemÃ¡tica financeira;2;1;7.5;1;2;F;19;1;1;40;1']\n",
      "['GestÃ£o da ProduÃ§Ã£o;MÃ©todos EstatÃ\\xadsticos;3;1;7.5;1;0;M;21;1;1;25;0']\n",
      "['AdministraÃ§Ã£o;Planejamento contÃ¡bil;2;1;7.5;1;0;M;25;2;1;25;0']\n",
      "['AdministraÃ§Ã£o;CÃ¡lculo A;3;1;7.5;0;0;M;21;1;2;35;0']\n",
      "['Engenharia de ProduÃ§Ã£o;GestÃ£o de Projetos;1;1;7.5;0;0;M;29;1;2;42;0']\n",
      "['GestÃ£o da ProduÃ§Ã£o;GestÃ£o de Projetos;1;2;7.5;1;1;M;26;2;2;40;1']\n",
      "['GestÃ£o da ProduÃ§Ã£o;MatemÃ¡tica financeira;2;1;7.5;1;0;F;18;1;2;30;0']\n",
      "['GestÃ£o da ProduÃ§Ã£o;MÃ©todos EstatÃ\\xadsticos;3;1;7.5;0;0;M;28;2;3;40;0']\n",
      "['GestÃ£o da ProduÃ§Ã£o;MÃ©todos EstatÃ\\xadsticos;3;2;7.5;0;0;F;23;1;3;42;0']\n",
      "['AdministraÃ§Ã£o;CÃ¡lculo A;3;1;7.5;3;1;M;26;1;4;30;1']\n",
      "['Engenharia de ProduÃ§Ã£o;CÃ¡lculo B;3;1;7.5;0;0;F;24;1;4;24;0']\n",
      "['AdministraÃ§Ã£o;EstratÃ©gias de marketing;1;2;7.5;0;2;F;18;1;4;50;0']\n",
      "['AdministraÃ§Ã£o;MatemÃ¡tica financeira;2;1;7.5;3;3;M;20;2;4;40;0']\n",
      "['AdministraÃ§Ã£o;MÃ©todos EstatÃ\\xadsticos;3;2;7.5;0;4;M;25;1;4;40;0']\n",
      "['AdministraÃ§Ã£o;EstratÃ©gias de marketing;1;1;7.5;0;1;F;20;1;5;20;0']\n",
      "['AdministraÃ§Ã£o;GestÃ£o de Projetos;1;1;7.5;1;2;F;30;3;5;20;0']\n",
      "['AdministraÃ§Ã£o;GestÃ£o de Projetos;1;2;7.5;0;3;M;24;3;5;50;0']\n",
      "['AdministraÃ§Ã£o;MatemÃ¡tica financeira;2;1;7.5;0;1;M;23;1;5;28;1']\n",
      "['GestÃ£o da ProduÃ§Ã£o;MÃ©todos EstatÃ\\xadsticos;3;1;7.5;0;2;F;23;1;5;35;0']\n",
      "['AdministraÃ§Ã£o;Comportamento do consumidor;1;2;7.5;0;0;M;25;2;6;20;0']\n",
      "['Engenharia de ProduÃ§Ã£o;GestÃ£o de Projetos;1;1;7.5;0;2;F;27;1;6;30;0']\n",
      "['GestÃ£o da ProduÃ§Ã£o;MÃ©todos EstatÃ\\xadsticos;3;2;7.5;0;4;M;20;3;6;50;1']\n",
      "['AdministraÃ§Ã£o;MÃ©todos EstatÃ\\xadsticos;3;2;7.5;2;0;F;21;2;6;50;1']\n",
      "['GestÃ£o da ProduÃ§Ã£o;MatemÃ¡tica financeira;2;2;7.5;0;0;F;22;1;7;41;']\n",
      "['GestÃ£o da ProduÃ§Ã£o;MÃ©todos EstatÃ\\xadsticos;3;1;7.5;3;0;F;24;1;7;20;']\n",
      "['AdministraÃ§Ã£o;Planejamento contÃ¡bil;2;1;7.5;1;1;F;22;2;7;43;']\n",
      "['GestÃ£o da ProduÃ§Ã£o;GestÃ£o de Projetos;1;1;7.9;2;0;M;24;1;1;35;1']\n",
      "['AdministraÃ§Ã£o;MatemÃ¡tica financeira;2;1;7.9;1;0;M;22;1;1;41;0']\n",
      "['GestÃ£o da ProduÃ§Ã£o;MatemÃ¡tica financeira;2;2;7.9;0;6;F;20;2;1;33;1']\n",
      "['Engenharia de ProduÃ§Ã£o;MÃ©todos EstatÃ\\xadsticos;3;1;7.9;1;5;M;25;1;1;43;1']\n",
      "['GestÃ£o da ProduÃ§Ã£o;MÃ©todos EstatÃ\\xadsticos;3;1;7.9;0;0;M;19;3;1;42;0']\n",
      "['AdministraÃ§Ã£o;MÃ©todos EstatÃ\\xadsticos;3;2;7.9;1;1;M;27;1;1;40;1']\n",
      "['AdministraÃ§Ã£o;Planejamento contÃ¡bil;2;1;7.9;1;0;M;21;2;1;33;0']\n",
      "['AdministraÃ§Ã£o;CÃ¡lculo A;3;1;7.9;0;0;M;27;2;2;41;0']\n",
      "['Engenharia de ProduÃ§Ã£o;CÃ¡lculo B;3;1;7.9;0;1;F;20;1;2;25;0']\n",
      "['Engenharia de ProduÃ§Ã£o;CÃ¡lculo B;3;1;7.9;0;0;F;22;2;3;25;0']\n",
      "['GestÃ£o da ProduÃ§Ã£o;MÃ©todos EstatÃ\\xadsticos;3;1;7.9;2;0;F;23;1;3;41;1']\n",
      "['GestÃ£o da ProduÃ§Ã£o;MÃ©todos EstatÃ\\xadsticos;3;1;7.9;2;0;F;24;1;3;20;0']\n",
      "['AdministraÃ§Ã£o;GestÃ£o de Projetos;1;1;7.9;0;1;M;23;1;4;42;0']\n",
      "['AdministraÃ§Ã£o;Comportamento do consumidor;1;2;7.9;0;1;F;35;2;5;30;0']\n",
      "['AdministraÃ§Ã£o;GestÃ£o de Projetos;1;2;7.9;1;2;F;23;1;5;20;0']\n",
      "['AdministraÃ§Ã£o;MatemÃ¡tica financeira;2;1;7.9;0;3;M;23;2;5;36;1']\n",
      "['AdministraÃ§Ã£o;MÃ©todos EstatÃ\\xadsticos;3;1;7.9;0;1;F;23;1;5;24;0']\n",
      "['AdministraÃ§Ã£o;Planejamento contÃ¡bil;2;1;7.9;0;3;M;19;3;5;35;0']\n",
      "['AdministraÃ§Ã£o;CÃ¡lculo A;3;1;7.9;0;0;F;19;1;6;30;0']\n",
      "['AdministraÃ§Ã£o;EstratÃ©gias de marketing;1;1;7.9;0;0;F;22;2;6;41;0']\n",
      "['Engenharia de ProduÃ§Ã£o;GestÃ£o de Projetos;1;1;7.9;2;3;M;23;1;6;30;1']\n",
      "['GestÃ£o da ProduÃ§Ã£o;MatemÃ¡tica financeira;2;1;7.9;0;0;M;27;3;6;42;0']\n",
      "['AdministraÃ§Ã£o;Comportamento do consumidor;1;2;7.9;0;0;F;18;3;7;50;']\n",
      "['AdministraÃ§Ã£o;GestÃ£o de Projetos;1;1;7.9;1;0;M;32;1;7;42;']\n",
      "['Engenharia de ProduÃ§Ã£o;GestÃ£o de Projetos;1;1;7.9;0;0;F;23;3;7;24;']\n",
      "['AdministraÃ§Ã£o;GestÃ£o de Projetos;1;2;7.9;1;0;F;32;1;7;42;']\n",
      "['GestÃ£o da ProduÃ§Ã£o;MÃ©todos EstatÃ\\xadsticos;3;2;7.9;1;2;M;23;1;7;35;']\n",
      "['GestÃ£o da ProduÃ§Ã£o;MÃ©todos EstatÃ\\xadsticos;3;2;7.9;0;2;F;23;1;7;40;']\n",
      "['AdministraÃ§Ã£o;GestÃ£o de Projetos;1;2;8', '0;0;0;F;18;2;1;42;0']\n",
      "['AdministraÃ§Ã£o;EstratÃ©gias de marketing;1;1;8', '0;1;0;M;22;1;2;24;0']\n",
      "['AdministraÃ§Ã£o;MatemÃ¡tica financeira;2;1;8', '0;0;0;M;27;1;2;24;0']\n",
      "['AdministraÃ§Ã£o;MÃ©todos EstatÃ\\xadsticos;3;2;8', '0;0;2;M;23;1;2;30;0']\n",
      "['Engenharia de ProduÃ§Ã£o;CÃ¡lculo A;3;1;8', '0;1;0;M;19;2;3;20;1']\n",
      "['AdministraÃ§Ã£o;Comportamento do consumidor;1;1;8', '0;0;0;F;22;1;3;43;0']\n",
      "['AdministraÃ§Ã£o;MatemÃ¡tica financeira;2;1;8', '0;3;0;F;21;2;3;30;1']\n",
      "['Engenharia de ProduÃ§Ã£o;GestÃ£o de Projetos;1;1;8', '0;0;3;F;19;1;4;40;0']\n",
      "['GestÃ£o da ProduÃ§Ã£o;GestÃ£o de Projetos;1;2;8', '0;2;2;F;24;3;4;40;1']\n",
      "['GestÃ£o da ProduÃ§Ã£o;MÃ©todos EstatÃ\\xadsticos;3;1;8', '0;0;4;F;23;3;4;20;0']\n",
      "['AdministraÃ§Ã£o;CÃ¡lculo A;3;1;8', '0;0;2;M;22;3;5;30;0']\n",
      "['AdministraÃ§Ã£o;CÃ¡lculo A;3;1;8', '0;1;2;F;25;1;6;35;1']\n",
      "['AdministraÃ§Ã£o;Planejamento contÃ¡bil;2;1;8', '0;0;1;F;21;3;6;42;1']\n",
      "['Engenharia de ProduÃ§Ã£o;MÃ©todos EstatÃ\\xadsticos;3;1;8', '0;1;0;F;27;1;7;30;']\n",
      "['GestÃ£o da ProduÃ§Ã£o;MÃ©todos EstatÃ\\xadsticos;3;1;8', '0;0;0;F;23;2;7;41;']\n",
      "['AdministraÃ§Ã£o;Planejamento contÃ¡bil;2;1;8', '0;0;0;M;21;1;7;41;']\n",
      "['GestÃ£o da ProduÃ§Ã£o;GestÃ£o de Projetos;1;1;8.2;0;5;M;24;3;1;41;0']\n",
      "['AdministraÃ§Ã£o;Planejamento contÃ¡bil;2;1;8.2;0;0;F;22;1;1;30;0']\n",
      "['AdministraÃ§Ã£o;CÃ¡lculo A;3;1;8.2;0;0;F;19;2;3;35;0']\n",
      "['AdministraÃ§Ã£o;GestÃ£o de Projetos;1;1;8.2;0;0;M;20;1;3;40;0']\n",
      "['AdministraÃ§Ã£o;MatemÃ¡tica financeira;2;1;8.2;2;0;F;18;3;3;42;0']\n",
      "['AdministraÃ§Ã£o;MÃ©todos EstatÃ\\xadsticos;3;2;8.2;1;0;M;21;1;3;28;1']\n",
      "['Engenharia de ProduÃ§Ã£o;CÃ¡lculo B;3;1;8.2;0;0;F;25;1;4;20;0']\n",
      "['AdministraÃ§Ã£o;EstratÃ©gias de marketing;1;2;8.2;0;0;M;33;1;4;50;0']\n",
      "['GestÃ£o da ProduÃ§Ã£o;GestÃ£o de Projetos;1;1;8.2;1;0;F;19;1;4;37;1']\n",
      "['AdministraÃ§Ã£o;MatemÃ¡tica financeira;2;1;8.2;1;0;M;18;1;4;30;1']\n",
      "['Engenharia de ProduÃ§Ã£o;GestÃ£o de Projetos;1;1;8.2;0;0;M;25;2;5;43;0']\n",
      "['AdministraÃ§Ã£o;GestÃ£o de Projetos;1;2;8.2;0;3;F;20;2;5;35;1']\n",
      "['AdministraÃ§Ã£o;Comportamento do consumidor;1;2;8.2;0;1;F;26;2;6;23;0']\n",
      "['AdministraÃ§Ã£o;EstratÃ©gias de marketing;1;2;8.4;1;0;F;19;2;3;35;0']\n",
      "['AdministraÃ§Ã£o;MatemÃ¡tica financeira;2;1;8.4;0;0;F;27;1;5;43;0']\n",
      "['AdministraÃ§Ã£o;MÃ©todos EstatÃ\\xadsticos;3;1;8.5;0;0;M;29;1;1;30;0']\n",
      "['AdministraÃ§Ã£o;EstratÃ©gias de marketing;1;2;8.5;0;0;M;18;1;2;30;0']\n",
      "['Engenharia de ProduÃ§Ã£o;MÃ©todos EstatÃ\\xadsticos;3;1;8.5;0;0;M;28;1;2;33;0']\n",
      "['AdministraÃ§Ã£o;CÃ¡lculo A;3;1;8.5;0;0;M;25;1;3;42;0']\n",
      "['AdministraÃ§Ã£o;Comportamento do consumidor;1;1;8.5;0;0;F;27;2;3;43;0']\n",
      "['AdministraÃ§Ã£o;GestÃ£o de Projetos;1;1;8.5;0;0;M;28;1;3;41;0']\n",
      "['GestÃ£o da ProduÃ§Ã£o;MÃ©todos EstatÃ\\xadsticos;3;2;8.5;4;0;M;24;1;3;40;1']\n",
      "['AdministraÃ§Ã£o;Planejamento contÃ¡bil;2;1;8.5;4;0;F;24;1;3;42;0']\n",
      "['Engenharia de ProduÃ§Ã£o;CÃ¡lculo A;3;1;8.5;0;0;M;25;1;4;24;0']\n",
      "['GestÃ£o da ProduÃ§Ã£o;GestÃ£o de Projetos;1;2;8.5;1;6;M;22;3;4;41;1']\n",
      "['GestÃ£o da ProduÃ§Ã£o;MÃ©todos EstatÃ\\xadsticos;3;1;8.5;0;0;F;26;1;4;24;0']\n",
      "['AdministraÃ§Ã£o;CÃ¡lculo A;3;1;8.5;1;1;F;22;2;5;40;1']\n",
      "['AdministraÃ§Ã£o;EstratÃ©gias de marketing;1;1;8.5;0;2;M;26;3;5;43;0']\n",
      "['AdministraÃ§Ã£o;MatemÃ¡tica financeira;2;1;8.5;1;1;F;22;1;7;33;']\n",
      "['AdministraÃ§Ã£o;MÃ©todos EstatÃ\\xadsticos;3;1;8.5;0;0;F;24;1;7;35;']\n",
      "['AdministraÃ§Ã£o;EstratÃ©gias de marketing;1;2;8.6;2;0;M;23;1;4;42;0']\n",
      "['AdministraÃ§Ã£o;MatemÃ¡tica financeira;2;1;8.7;0;3;M;25;1;5;33;0']\n",
      "['AdministraÃ§Ã£o;MatemÃ¡tica financeira;2;1;8.9;0;0;F;20;1;5;41;0']\n",
      "['AdministraÃ§Ã£o;EstratÃ©gias de marketing;1;1;9', '0;0;0;F;30;1;1;20;0']\n",
      "['GestÃ£o da ProduÃ§Ã£o;MÃ©todos EstatÃ\\xadsticos;3;2;9', '0;0;0;M;20;1;1;50;1']\n",
      "['AdministraÃ§Ã£o;MatemÃ¡tica financeira;2;1;9', '0;0;0;M;24;3;2;40;0']\n",
      "['AdministraÃ§Ã£o;Planejamento contÃ¡bil;2;1;9', '0;0;1;F;23;2;2;30;0']\n",
      "['AdministraÃ§Ã£o;CÃ¡lculo A;3;1;9', '0;0;0;F;25;1;3;30;0']\n",
      "['GestÃ£o da ProduÃ§Ã£o;GestÃ£o de Projetos;1;1;9', '0;0;0;M;20;3;3;41;0']\n",
      "['GestÃ£o da ProduÃ§Ã£o;GestÃ£o de Projetos;1;2;9', '0;0;0;M;18;1;3;20;0']\n",
      "['AdministraÃ§Ã£o;MÃ©todos EstatÃ\\xadsticos;3;1;9', '0;1;0;M;23;1;3;42;1']\n",
      "['AdministraÃ§Ã£o;MÃ©todos EstatÃ\\xadsticos;3;1;9', '0;0;0;M;23;1;3;35;0']\n",
      "['Engenharia de ProduÃ§Ã£o;MÃ©todos EstatÃ\\xadsticos;3;1;9', '0;0;0;M;21;2;3;24;0']\n",
      "['Engenharia de ProduÃ§Ã£o;CÃ¡lculo A;3;1;9', '0;0;0;M;25;2;4;42;0']\n",
      "['GestÃ£o da ProduÃ§Ã£o;MÃ©todos EstatÃ\\xadsticos;3;1;9', '0;0;0;M;33;1;4;40;0']\n",
      "['AdministraÃ§Ã£o;Comportamento do consumidor;1;1;9', '0;0;2;M;23;1;5;20;0']\n",
      "['AdministraÃ§Ã£o;Planejamento contÃ¡bil;2;1;9', '0;0;0;M;20;1;5;41;0']\n",
      "['AdministraÃ§Ã£o;GestÃ£o de Projetos;1;1;9', '0;0;1;M;28;1;6;30;0']\n",
      "['GestÃ£o da ProduÃ§Ã£o;MÃ©todos EstatÃ\\xadsticos;3;1;9', '0;0;1;F;26;1;6;41;0']\n",
      "['AdministraÃ§Ã£o;CÃ¡lculo A;3;1;9', '0;0;0;M;18;1;7;42;']\n",
      "['AdministraÃ§Ã£o;EstratÃ©gias de marketing;1;2;9', '0;0;0;M;26;1;7;40;']\n",
      "['Engenharia de ProduÃ§Ã£o;CÃ¡lculo A;3;1;9.2;0;0;M;20;3;1;24;0']\n",
      "['AdministraÃ§Ã£o;MatemÃ¡tica financeira;2;1;9.2;0;0;M;26;1;2;35;0']\n",
      "['Engenharia de ProduÃ§Ã£o;MÃ©todos EstatÃ\\xadsticos;3;1;9.2;0;0;F;26;2;2;41;0']\n",
      "['AdministraÃ§Ã£o;Planejamento contÃ¡bil;2;1;9.2;0;0;F;25;2;2;33;0']\n",
      "['AdministraÃ§Ã£o;CÃ¡lculo A;3;1;9.2;1;0;M;27;1;3;30;1']\n",
      "['AdministraÃ§Ã£o;Comportamento do consumidor;1;1;9.2;0;1;M;21;3;3;40;0']\n",
      "['AdministraÃ§Ã£o;EstratÃ©gias de marketing;1;1;9.2;1;0;M;24;2;3;24;0']\n",
      "['AdministraÃ§Ã£o;MÃ©todos EstatÃ\\xadsticos;3;1;9.2;0;3;M;24;2;3;35;1']\n",
      "['AdministraÃ§Ã£o;MÃ©todos EstatÃ\\xadsticos;3;1;9.2;0;0;F;25;1;3;25;0']\n",
      "['AdministraÃ§Ã£o;GestÃ£o de Projetos;1;1;9.2;0;1;M;25;3;5;25;0']\n",
      "['GestÃ£o da ProduÃ§Ã£o;MÃ©todos EstatÃ\\xadsticos;3;1;9.2;0;2;F;22;2;5;33;0']\n",
      "['GestÃ£o da ProduÃ§Ã£o;GestÃ£o de Projetos;1;2;9.2;0;0;M;26;1;6;30;0']\n",
      "['AdministraÃ§Ã£o;Planejamento contÃ¡bil;2;1;9.2;0;1;F;35;1;6;30;0']\n",
      "['AdministraÃ§Ã£o;CÃ¡lculo A;3;1;9.2;0;0;M;33;3;7;20;']\n",
      "['GestÃ£o da ProduÃ§Ã£o;MÃ©todos EstatÃ\\xadsticos;3;1;9.2;0;1;M;30;1;7;40;']\n",
      "['AdministraÃ§Ã£o;CÃ¡lculo A;3;1;9.3;0;2;F;21;1;1;29;1']\n",
      "['AdministraÃ§Ã£o;Comportamento do consumidor;1;1;9.3;0;0;M;24;1;1;43;0']\n",
      "['Engenharia de ProduÃ§Ã£o;MÃ©todos EstatÃ\\xadsticos;3;1;9.3;0;0;F;22;1;1;33;0']\n",
      "['AdministraÃ§Ã£o;Planejamento contÃ¡bil;2;1;9.3;0;2;M;22;2;2;43;0']\n",
      "['AdministraÃ§Ã£o;EstratÃ©gias de marketing;1;1;9.3;0;1;M;23;1;3;33;0']\n",
      "['GestÃ£o da ProduÃ§Ã£o;GestÃ£o de Projetos;1;2;9.3;0;0;F;19;1;3;24;0']\n",
      "['GestÃ£o da ProduÃ§Ã£o;MÃ©todos EstatÃ\\xadsticos;3;1;9.3;0;0;M;19;1;4;35;0']\n",
      "['AdministraÃ§Ã£o;Planejamento contÃ¡bil;2;1;9.3;0;1;M;28;1;4;43;0']\n",
      "['AdministraÃ§Ã£o;Planejamento contÃ¡bil;2;1;9.3;0;2;F;19;1;4;41;0']\n",
      "['Engenharia de ProduÃ§Ã£o;CÃ¡lculo A;3;1;9.3;0;3;M;26;3;5;43;1']\n",
      "['AdministraÃ§Ã£o;CÃ¡lculo A;3;1;9.3;0;4;F;22;1;5;20;0']\n",
      "['AdministraÃ§Ã£o;MatemÃ¡tica financeira;2;1;9.3;0;0;F;29;2;5;41;0']\n",
      "['GestÃ£o da ProduÃ§Ã£o;MÃ©todos EstatÃ\\xadsticos;3;1;9.3;0;1;F;24;1;5;42;0']\n",
      "['GestÃ£o da ProduÃ§Ã£o;GestÃ£o de Projetos;1;2;9.3;0;0;M;25;2;6;50;1']\n",
      "['AdministraÃ§Ã£o;GestÃ£o de Projetos;1;2;9.3;0;0;M;27;1;6;50;0']\n",
      "['Engenharia de ProduÃ§Ã£o;GestÃ£o de Projetos;1;1;9.3;0;0;M;19;2;7;20;']\n",
      "['AdministraÃ§Ã£o;MÃ©todos EstatÃ\\xadsticos;3;1;9.3;0;0;F;22;1;7;33;']\n",
      "['AdministraÃ§Ã£o;GestÃ£o de Projetos;1;1;9.4;0;1;M;30;1;1;41;0']\n",
      "['Engenharia de ProduÃ§Ã£o;GestÃ£o de Projetos;1;1;9.4;0;0;M;25;1;1;30;0']\n",
      "['AdministraÃ§Ã£o;MatemÃ¡tica financeira;2;1;9.4;0;1;M;20;1;2;25;0']\n",
      "['AdministraÃ§Ã£o;Planejamento contÃ¡bil;2;1;9.4;0;0;M;23;1;2;42;0']\n",
      "['AdministraÃ§Ã£o;CÃ¡lculo A;3;1;9.4;0;1;F;19;3;3;27;1']\n",
      "['Engenharia de ProduÃ§Ã£o;CÃ¡lculo A;3;1;9.4;0;0;M;27;1;4;35;0']\n",
      "['AdministraÃ§Ã£o;MÃ©todos EstatÃ\\xadsticos;3;1;9.4;0;0;F;26;1;4;24;0']\n",
      "['AdministraÃ§Ã£o;CÃ¡lculo A;3;1;9.4;1;2;F;28;1;5;41;0']\n",
      "['GestÃ£o da ProduÃ§Ã£o;MÃ©todos EstatÃ\\xadsticos;3;1;9.4;0;3;M;19;1;5;20;0']\n",
      "['AdministraÃ§Ã£o;EstratÃ©gias de marketing;1;1;9.4;0;0;M;20;3;6;40;0']\n",
      "['GestÃ£o da ProduÃ§Ã£o;GestÃ£o de Projetos;1;2;9.4;0;0;M;23;2;6;50;1']\n",
      "['Engenharia de ProduÃ§Ã£o;MÃ©todos EstatÃ\\xadsticos;3;1;9.4;0;0;M;27;2;6;43;0']\n",
      "['GestÃ£o da ProduÃ§Ã£o;MÃ©todos EstatÃ\\xadsticos;3;1;9.4;0;2;F;21;2;6;24;0']\n",
      "['AdministraÃ§Ã£o;Planejamento contÃ¡bil;2;1;9.4;0;0;M;25;3;6;42;0']\n",
      "['AdministraÃ§Ã£o;Comportamento do consumidor;1;1;9.4;0;3;F;29;2;7;20;']\n",
      "['AdministraÃ§Ã£o;Planejamento contÃ¡bil;2;1;9.4;0;0;M;21;1;7;30;']\n",
      "['GestÃ£o da ProduÃ§Ã£o;GestÃ£o de Projetos;1;2;9.6;0;0;M;19;2;1;20;0']\n",
      "['AdministraÃ§Ã£o;EstratÃ©gias de marketing;1;2;9.6;0;0;M;28;1;4;20;0']\n",
      "['AdministraÃ§Ã£o;EstratÃ©gias de marketing;1;2;9.6;1;0;F;18;2;4;20;0']\n"
     ]
    }
   ],
   "source": [
    "# importar o pacote csv\n",
    "import csv\n",
    "\n",
    "\n",
    "# lemos o arquivo CSV em disco \n",
    "base_evasao = open ('bs_evasao_para_aula4.csv')\n",
    "\n",
    "\n",
    "linhas = csv.reader(base_evasao)\n",
    "\n",
    "for linha in linhas:\n",
    "    print(linha)\n"
   ]
  },
  {
   "cell_type": "markdown",
   "metadata": {},
   "source": [
    "## 1.4 Pandas"
   ]
  },
  {
   "cell_type": "code",
   "execution_count": 3,
   "metadata": {},
   "outputs": [
    {
     "data": {
      "text/plain": [
       "pandas.core.frame.DataFrame"
      ]
     },
     "execution_count": 3,
     "metadata": {},
     "output_type": "execute_result"
    }
   ],
   "source": [
    "import pandas as pd\n",
    "# carregar o dataset disponível no material de aula \"bs_evasao_para_aula4.csv\" em memória\n",
    "dataset = pd.read_csv('bs_evasao_para_aula4.csv', sep=';')\n",
    "type(dataset)"
   ]
  },
  {
   "cell_type": "code",
   "execution_count": null,
   "metadata": {},
   "outputs": [],
   "source": [
    "# visualizar as primeiras linhas do dataset\n",
    "dataset.head()"
   ]
  },
  {
   "cell_type": "code",
   "execution_count": null,
   "metadata": {},
   "outputs": [],
   "source": [
    "# saber quais as colunas do dataset\n",
    "dataset.columns"
   ]
  },
  {
   "cell_type": "code",
   "execution_count": null,
   "metadata": {},
   "outputs": [],
   "source": [
    "# saber quantas respostas tem em cada coluna do dataset\n",
    "dataset.count()"
   ]
  },
  {
   "cell_type": "code",
   "execution_count": null,
   "metadata": {},
   "outputs": [],
   "source": [
    "# estatísticas básicas das variáveis do dataset\n",
    "dataset.describe()"
   ]
  },
  {
   "cell_type": "code",
   "execution_count": null,
   "metadata": {},
   "outputs": [],
   "source": [
    "# distribuição de frequências da variável curso\n",
    "pd.value_counts(dataset['curso'])"
   ]
  },
  {
   "cell_type": "code",
   "execution_count": null,
   "metadata": {},
   "outputs": [],
   "source": [
    "# ler a bade de dados segundo um critério\n",
    "dataset.loc[dataset['curso']==\"Gestão da Produção\"]"
   ]
  },
  {
   "cell_type": "code",
   "execution_count": null,
   "metadata": {},
   "outputs": [],
   "source": [
    "# ler a bade de dados segundo três critérios\n",
    "dataset.loc[(dataset['curso']==\"Gestão da Produção\") & ( dataset['modalidade'] == 1) & (dataset['grau_exig'] == 1)]"
   ]
  },
  {
   "cell_type": "code",
   "execution_count": null,
   "metadata": {},
   "outputs": [],
   "source": []
  },
  {
   "cell_type": "code",
   "execution_count": null,
   "metadata": {},
   "outputs": [],
   "source": [
    "# cria nova coluna a partir de outra\n",
    "dataset['nova_variavel'] = (dataset[\"modalidade\"]*15)\n",
    "dataset['nova_variavel'] "
   ]
  },
  {
   "cell_type": "code",
   "execution_count": 4,
   "metadata": {},
   "outputs": [],
   "source": [
    "# categorizar/agrupar respostas de uma variável \n",
    "def categorizando(s):\n",
    "    if s >= 45:\n",
    "        return 'Big'\n",
    "    elif s >= 35:\n",
    "        return 'Medium'\n",
    "    elif s < 35:\n",
    "        return 'Small'"
   ]
  },
  {
   "cell_type": "code",
   "execution_count": 5,
   "metadata": {},
   "outputs": [],
   "source": [
    "\n",
    "dataset['tam_turma_rec'] = dataset['tamanho_turma'].apply(categorizando)"
   ]
  },
  {
   "cell_type": "code",
   "execution_count": 6,
   "metadata": {},
   "outputs": [
    {
     "data": {
      "text/plain": [
       "0         Big\n",
       "1      Medium\n",
       "2       Small\n",
       "3       Small\n",
       "4       Small\n",
       "5       Small\n",
       "6      Medium\n",
       "7       Small\n",
       "8       Small\n",
       "9      Medium\n",
       "10     Medium\n",
       "11     Medium\n",
       "12      Small\n",
       "13        Big\n",
       "14     Medium\n",
       "15      Small\n",
       "16     Medium\n",
       "17     Medium\n",
       "18     Medium\n",
       "19     Medium\n",
       "20     Medium\n",
       "21     Medium\n",
       "22     Medium\n",
       "23      Small\n",
       "24     Medium\n",
       "25     Medium\n",
       "26     Medium\n",
       "27     Medium\n",
       "28        Big\n",
       "29     Medium\n",
       "        ...  \n",
       "340    Medium\n",
       "341    Medium\n",
       "342    Medium\n",
       "343    Medium\n",
       "344     Small\n",
       "345    Medium\n",
       "346    Medium\n",
       "347       Big\n",
       "348       Big\n",
       "349     Small\n",
       "350     Small\n",
       "351    Medium\n",
       "352     Small\n",
       "353     Small\n",
       "354    Medium\n",
       "355     Small\n",
       "356    Medium\n",
       "357     Small\n",
       "358    Medium\n",
       "359     Small\n",
       "360    Medium\n",
       "361       Big\n",
       "362    Medium\n",
       "363     Small\n",
       "364    Medium\n",
       "365     Small\n",
       "366     Small\n",
       "367     Small\n",
       "368     Small\n",
       "369     Small\n",
       "Name: tam_turma_rec, Length: 370, dtype: object"
      ]
     },
     "execution_count": 6,
     "metadata": {},
     "output_type": "execute_result"
    }
   ],
   "source": [
    "dataset['tam_turma_rec'] "
   ]
  },
  {
   "cell_type": "code",
   "execution_count": 7,
   "metadata": {},
   "outputs": [
    {
     "data": {
      "text/plain": [
       "Medium    183\n",
       "Small     166\n",
       "Big        21\n",
       "Name: tam_turma_rec, dtype: int64"
      ]
     },
     "execution_count": 7,
     "metadata": {},
     "output_type": "execute_result"
    }
   ],
   "source": [
    "# Verificar a contagem dessa coluna\n",
    "pd.value_counts(dataset['tam_turma_rec'])"
   ]
  },
  {
   "cell_type": "code",
   "execution_count": 10,
   "metadata": {
    "scrolled": true
   },
   "outputs": [
    {
     "data": {
      "text/plain": [
       "curso                 0\n",
       "disciplina            0\n",
       "grau_exig             0\n",
       "modalidade            0\n",
       "media_notas_ant       0\n",
       "num_disc_evadidas     0\n",
       "mensal_atraso         0\n",
       "sexo                  0\n",
       "idade                 0\n",
       "dist                  0\n",
       "sem                   0\n",
       "tamanho_turma         0\n",
       "sit                  37\n",
       "tam_turma_rec         0\n",
       "dtype: int64"
      ]
     },
     "execution_count": 10,
     "metadata": {},
     "output_type": "execute_result"
    }
   ],
   "source": [
    "# Contagem de missing por coluna do dataset\n",
    "dataset.isnull().sum()"
   ]
  },
  {
   "cell_type": "markdown",
   "metadata": {},
   "source": [
    "## Gráficos"
   ]
  },
  {
   "cell_type": "code",
   "execution_count": 15,
   "metadata": {},
   "outputs": [
    {
     "data": {
      "text/plain": [
       "<matplotlib.axes._subplots.AxesSubplot at 0x1af03f5a828>"
      ]
     },
     "execution_count": 15,
     "metadata": {},
     "output_type": "execute_result"
    },
    {
     "data": {
      "image/png": "[encoded data removed]",
      "text/plain": [
       "<Figure size 432x288 with 1 Axes>"
      ]
     },
     "metadata": {},
     "output_type": "display_data"
    }
   ],
   "source": [
    "import matplotlib.pyplot as plt\n",
    "\n",
    "dataset.plot(x='modalidade',y='num_disc_evadidas',kind='scatter', title='Evasão anterior x idade',color='r')"
   ]
  },
  {
   "cell_type": "code",
   "execution_count": 12,
   "metadata": {},
   "outputs": [
    {
     "data": {
      "text/plain": [
       "<matplotlib.axes._subplots.AxesSubplot at 0x1af0394a940>"
      ]
     },
     "execution_count": 12,
     "metadata": {},
     "output_type": "execute_result"
    },
    {
     "data": {
      "image/png": "[encoded data removed]",
      "text/plain": [
       "<Figure size 432x288 with 1 Axes>"
      ]
     },
     "metadata": {},
     "output_type": "display_data"
    }
   ],
   "source": [
    "dataset.plot(x='dist',y='num_disc_evadidas',kind='scatter', title='Evasão anterior x  evasão atual',color='b')"
   ]
  },
  {
   "cell_type": "code",
   "execution_count": 16,
   "metadata": {},
   "outputs": [
    {
     "data": {
      "text/plain": [
       "-0.05254388398024018"
      ]
     },
     "execution_count": 16,
     "metadata": {},
     "output_type": "execute_result"
    }
   ],
   "source": [
    "dataset['idade'].corr(dataset['num_disc_evadidas'])"
   ]
  },
  {
   "cell_type": "code",
   "execution_count": null,
   "metadata": {},
   "outputs": [],
   "source": []
  }
 ],
 "metadata": {
  "kernelspec": {
   "display_name": "Python 3",
   "language": "python",
   "name": "python3"
  },
  "language_info": {
   "codemirror_mode": {
    "name": "ipython",
    "version": 3
   },
   "file_extension": ".py",
   "mimetype": "text/x-python",
   "name": "python",
   "nbconvert_exporter": "python",
   "pygments_lexer": "ipython3",
   "version": "3.6.5"
  }
 },
 "nbformat": 4,
 "nbformat_minor": 2
}
